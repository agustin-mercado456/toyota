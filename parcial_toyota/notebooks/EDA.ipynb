{
 "cells": [
  {
   "cell_type": "code",
   "execution_count": null,
   "id": "b16dfc90",
   "metadata": {
    "editable": true,
    "slideshow": {
     "slide_type": ""
    },
    "tags": [
     "df_toyota_clean"
    ]
   },
   "outputs": [],
   "source": [
    "import dagstermill\n",
    "import os\n",
    "from dagster import Output\n",
    "\n",
    "df_toyota_clean.head(10)"
   ]
  },
  {
   "cell_type": "code",
   "execution_count": null,
   "id": "efeaba94",
   "metadata": {},
   "outputs": [],
   "source": [
    "from dagstermill import yield_result\n",
    "df = df_toyota_clean.copy()\n",
    "    \n",
    "    # Exportar CSV\n",
    "output_dir = \"output\"\n",
    "os.makedirs(output_dir, exist_ok=True)\n",
    "csv_path = os.path.join(output_dir, \"data.csv\")\n",
    "df.to_csv(csv_path, index=False)\n",
    "\n",
    "\n",
    "\n"
   ]
  }
 ],
 "metadata": {
  "kernelspec": {
   "display_name": "toyota",
   "language": "python",
   "name": "python3"
  },
  "language_info": {
   "codemirror_mode": {
    "name": "ipython",
    "version": 3
   },
   "file_extension": ".py",
   "mimetype": "text/x-python",
   "name": "python",
   "nbconvert_exporter": "python",
   "pygments_lexer": "ipython3",
   "version": "3.9.21"
  }
 },
 "nbformat": 4,
 "nbformat_minor": 5
}
